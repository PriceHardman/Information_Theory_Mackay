{
 "metadata": {
  "name": "",
  "signature": "sha256:f7661dc190b3e66017aeeb6e893c63c9f0b7a9807a381d6f98205ce2cbbf8f56"
 },
 "nbformat": 3,
 "nbformat_minor": 0,
 "worksheets": [
  {
   "cells": [
    {
     "cell_type": "heading",
     "level": 1,
     "metadata": {},
     "source": [
      "Chapter 20: An Example Inference Task: Clustering"
     ]
    },
    {
     "cell_type": "markdown",
     "metadata": {},
     "source": [
      "Human brains are good at finding regularities in data. One way of expressing regularity is to put a set of objects into groups that are similar to each other. In this chapter we'll discuss ways to take a set of $N$ objects and group them into $K$ clusters.<br/>\n",
      "There are a number of motivations for clustering:\n",
      "* **Good clustering has predictive power.**\n",
      "* **Clusters can be a useful aid to communication because they allow for lossy compression.**\n",
      "* **Failures of the cluster model might highlight otherwise-undiscovered interesting objects that deserve special attention.**\n",
      "* **Clustering algorithms may serve as models of learning processes in neural systems.**"
     ]
    },
    {
     "cell_type": "heading",
     "level": 2,
     "metadata": {},
     "source": [
      "20.1: $K$-means Clustering"
     ]
    },
    {
     "cell_type": "markdown",
     "metadata": {},
     "source": [
      "The $K$-means algorithm is an algorithm for putting $N$ datapoints in an $I$-dimensional space into $K$ clusters. Each cluster is parameterized by a vector $\\mathbf{m}^{k}$ called its mean.<br/>\n",
      "The datapoints will be denoted by $\\left\\{\\mathbf{x}^{\\left(n\\right)}\\right\\}$ where the superscript $n$ runs from $1$ to the number of data points $N$. Each vector $\\mathbf{x}$ has $I$ components $x_{i}$. We will assume that the space that $\\mathbf{x}$ lives in is a real space and that we have a metric that defines distances between points. For example,\n",
      "$$d\\left(\\mathbf{x},\\mathbf{y}\\right) = \\sum_{i}{\\left(x_{i}-y_{i}\\right)^{2}}$$<br/>\n",
      "To start the $K$-means algorithm, the $K$ means $\\left\\{\\mathbf{m}^{\\left(k\\right)}\\right\\}$ are initialized in some way, for example to random values. $K$-means is then an iterative two-step algorithm. In the **assignment step**, each datapoint $n$ is assigned to the nearest mean. In the **update step**, the means are adjusted to match the sample means of their constituent datapoints. The $K$-means algorithm always converges to a fixed point.<br/><br/>\n",
      "The algorithm is described as follows:\n",
      "* **Initialization Step**: Given data in $\\mathbb{R}^{I}$, set $K$ means $\\mathbf{m}_{k}$ to random values in $\\mathbb{R}^{I}$ (This is usually a poor idea, and some heuristic is typically employed in order to achieve a more intelligent initialization).\n",
      "* **Assignment Step**: For each point $\\mathbf{x}_{n}$, assign it to the nearest mean: $$\\hat{k}_{n} = \\text{argmin}_{k}\\left\\{d\\left(\\mathbf{m}^{\\left(k\\right)},\\mathbf{x}_{n}\\right)\\right\\}$$(In the unlikely event of a tie, choose the mean with the lower index).<br/>\n",
      "An alternative and equivalent representation is for each pair of points and clusters, to assign a measure of 'responsibility' $r_{n,k}$, which is an indicator variable telling whether or not the given point $x_{n}$ is closest to cluster $m_{k}$. In other words, for each $x_{n}$ and $m_{k}$,\n",
      "$$r_{n,k} =\n",
      "\\begin{cases}\n",
      "1, & \\text{if } \\hat{k}_{n} = k \\\\\n",
      "0, & \\text{if } \\hat{k}_{n} \\neq k\n",
      "\\end{cases}$$\n",
      "\n",
      "* **Update Step**: The means are adjusted to match the sample means of the datapoints for which they are responsible:\n",
      "$$m_{k} = \\frac{\\sum_{n}{r_{n,k}x_{n}}}{R_{k}},$$ where $R_{k}$ is the total responsibility of cluster $k$:\n",
      "$$R_{k} = \\sum_{n}{r_{n,k}}.$$\n",
      "If $R_{k}=0$, then we leave $\\mathbf{m}_{k}$ where it is."
     ]
    },
    {
     "cell_type": "code",
     "collapsed": false,
     "input": [
      "import numpy as np\n",
      "import matplotlib.pyplot as plt\n",
      "%matplotlib inline\n",
      "\n",
      "def d(x,y):\n",
      "    return sum((x-y)**2)\n",
      "\n",
      "def initialize(X,K):\n",
      "    M = X.shape[1]\n",
      "    X_min, X_max = np.amin(X,axis=0), np.amax(X,axis=0)\n",
      "    X_range = X_max - X_min\n",
      "    return np.random.rand(K*M).reshape(K,M) * X_range + np.tile(X_min,K).reshape(K,M)\n",
      "\n",
      "def assign(X,C):\n",
      "    N,M = X.shape\n",
      "    K = C.shape[0]\n",
      "    D = np.array([d(x,c) for x in X for c in C]).reshape(N,K)\n",
      "    return np.array([x==np.min(x) for x in D],dtype=np.int)\n",
      "\n",
      "def update(X,A,old_C):\n",
      "    \"\"\"\n",
      "    Take the data (NxM), assignments (NxK), and current centroids (KxM),\n",
      "    and return new centroids. This can be done simply by multiplying\n",
      "    A.T by X and dividing by the columnwise sums of A.\n",
      "    Centroids with new responsibility of 0 are kept at their previous values\n",
      "    \"\"\"\n",
      "    new_C = np.dot(A.T,X) / np.sum(A,axis=0)[:,np.newaxis] # sum_{n}{r_{kn}*x_{n}} / R_K\n",
      "    \n",
      "    # To assign centroids in new_C without responsibility to \n",
      "    # their previous value in old_C, do the following:\n",
      "    # Any such responsibility-less centroids will be represented \n",
      "    # by rows of nan in new_C (since their R_K entry is 0).\n",
      "    # We'll create two matrices: The first is new_C, but with any nan's converted to zeroes.\n",
      "    # The second is a version of old_C comprised of zeroes, \n",
      "    # except in rows where the corresponding row in new_C is nan.\n",
      "    # Adding these matrices together, we effectively replace \n",
      "    # any offending row in new_C with the corresponding row in old_C.\n",
      "    \n",
      "    new_C_nan_to_zero = np.nan_to_num(new_C) # new_C with nans converted to 0\n",
      "    new_C_nan_indicator_matrix = np.isnan(new_C).astype(np.int) # 1 if element in new_C is nan, otherwise 0    \n",
      "    return new_C_nan_to_zero + (new_C_nan_indicator_matrix * old_C) # replace 0's (formerly nans) in new_C with old_C values.\n",
      "\n",
      "def K_means(X,K):\n",
      "    C = initialize(X,K)\n",
      "    current_assignments = assign(X,C)\n",
      "    previous_assignments = np.empty(shape=(1,1))\n",
      "    n_iter = 0\n",
      "    while not np.array_equal(previous_assignments,current_assignments):\n",
      "        previous_assignments = current_assignments\n",
      "        C = update(X,current_assignments,C)\n",
      "        current_assignments = assign(X,C)\n",
      "        n_iter += 1\n",
      "        if n_iter > 1000:\n",
      "            break\n",
      "    return {'assignments': np.array([X[np.unique(np.where(np.dot(current_assignments,C) == c)[0])] for c in C]),'centroids': C}\n",
      "\n",
      "f,ax = plt.subplots(nrows=5,ncols=2,figsize=(5,10))\n",
      "for row in range(5):\n",
      "    actual_K = np.array([[1,8],[8,1],[8,8]])\n",
      "    C = np.array([[3,4],[7,1],[5,8]])\n",
      "    X = np.tile(actual_K,10).reshape(30,2) + np.random.uniform(low=-2.0,high=2.0,size=60).reshape(30,2)\n",
      "    results = K_means(X,3)\n",
      "    ax[row,0].plot(X[:,0],X[:,1],'b.')\n",
      "    ax[row,0].plot(actual_K[:,0],actual_K[:,1],'ro')\n",
      "\n",
      "    datapoint_colors = ['g.','r.','b.']\n",
      "    centroid_colors = ['go','ro','bo']\n",
      "    for i in range(3):\n",
      "        ax[row,1].plot(results['assignments'][i][:,0],results['assignments'][i][:,1],datapoint_colors[i])\n",
      "        ax[row,1].plot(results['centroids'][i][0],results['centroids'][i][1],centroid_colors[i])\n",
      "    \n",
      "    if row==0:\n",
      "        ax[row,0].set_title('Actual clusters')\n",
      "        ax[row,1].set_title('Calculated Centroids\\n and Assignments')\n",
      "\n",
      "for row in range(5):\n",
      "    for col in range(2):\n",
      "        ax[row,col].get_xaxis().set_visible(False)\n",
      "        ax[row,col].get_yaxis().set_visible(False)\n",
      "plt.show()"
     ],
     "language": "python",
     "metadata": {},
     "outputs": [
      {
       "metadata": {},
       "output_type": "display_data",
       "png": "[encoded data removed]",
       "text": [
        "<matplotlib.figure.Figure at 0x7cc9b38>"
       ]
      }
     ],
     "prompt_number": 217
    },
    {
     "cell_type": "heading",
     "level": 3,
     "metadata": {},
     "source": [
      "Questions about the K-Means Algorithm"
     ]
    },
    {
     "cell_type": "markdown",
     "metadata": {},
     "source": [
      "Notice that in some cases, K-means performs remarkably well at finding the solution, whereas in other cases it performs quite poorly. The K-Means algorithm has a number of *ad hoc* features.\n",
      "* Why does the update step set the 'mean' to the mean of the assigned points?\n",
      "* Where did the distance $d$ come from?\n",
      "* What if we used a different distance metric?\n",
      "* How can we choose the 'best' distance?\n",
      "* How do we choose $K$?\n",
      "* Having found multiple alternative clusterings for a given $K$, how do we choose among them?"
     ]
    },
    {
     "cell_type": "heading",
     "level": 3,
     "metadata": {},
     "source": [
      "Cases where K-Means might be viewed as failing"
     ]
    },
    {
     "cell_type": "markdown",
     "metadata": {},
     "source": [
      "Further questions arise when we look for cases where the algorithm behaves badly (relative to what would commonly be regarded as 'clustering'). Consider the following example:\n",
      "The data consists of 150 random samples drawn from two bivariate Gaussians. 100 points are drawn from a Gaussian centered at $\\left(3,5\\right)$, and 50 points from another Gaussian centered at $\\left(6,5\\right)$. Both Gaussians have covariances such that they are highly elongated in the $y$ direction. Notice what happens when the K-means algorithm is run on the data: "
     ]
    },
    {
     "cell_type": "code",
     "collapsed": false,
     "input": [
      "import numpy as np\n",
      "import matplotlib.pyplot as plt\n",
      "%matplotlib inline\n",
      "\n",
      "def d(x,y):\n",
      "    return sum((x-y)**2)\n",
      "\n",
      "def initialize(X,K):\n",
      "    M = X.shape[1]\n",
      "    X_min, X_max = np.amin(X,axis=0), np.amax(X,axis=0)\n",
      "    X_range = X_max - X_min\n",
      "    return np.random.rand(K*M).reshape(K,M) * X_range + np.tile(X_min,K).reshape(K,M)\n",
      "\n",
      "def assign(X,C):\n",
      "    N,M = X.shape\n",
      "    K = C.shape[0]\n",
      "    D = np.array([d(x,c) for x in X for c in C]).reshape(N,K)\n",
      "    return np.array([x==np.min(x) for x in D],dtype=np.int)\n",
      "\n",
      "def update(X,A,old_C):\n",
      "    new_C = np.dot(A.T,X) / np.sum(A,axis=0)[:,np.newaxis]\n",
      "    new_C_nan_to_zero = np.nan_to_num(new_C)\n",
      "    new_C_nan_indicator_matrix = np.isnan(new_C).astype(np.int)\n",
      "    return new_C_nan_to_zero + (new_C_nan_indicator_matrix * old_C)\n",
      "\n",
      "def K_means(X,K):\n",
      "    C = initialize(X,K)\n",
      "    current_assignments = assign(X,C)\n",
      "    previous_assignments = np.empty(shape=(1,1))\n",
      "    n_iter = 0\n",
      "    while not np.array_equal(previous_assignments,current_assignments):\n",
      "        previous_assignments = current_assignments\n",
      "        C = update(X,current_assignments,C)\n",
      "        current_assignments = assign(X,C)\n",
      "        n_iter += 1\n",
      "        if n_iter > 1000:\n",
      "            break\n",
      "    return {'assignments': np.array([X[np.unique(np.where(np.dot(current_assignments,C) == c)[0])] for c in C]),'centroids': C}\n",
      "\n",
      "X1 = np.random.multivariate_normal(mean=[4,5],cov=[[0.01,0],[0,1]],size=100)\n",
      "X2 = np.random.multivariate_normal(mean=[5,5],cov=[[0.01,0],[0,1]],size=50)\n",
      "X = np.vstack([X1,X2])\n",
      "\n",
      "f,ax = plt.subplots(nrows=1,ncols=2)\n",
      "ax[0].plot(X1[:,0],X1[:,1],'r.')\n",
      "ax[0].plot(4,5,'go')\n",
      "ax[0].plot(X2[:,0],X2[:,1],'b.')\n",
      "ax[0].plot(5,5,'go')\n",
      "\n",
      "results = K_means(X,2)\n",
      "ax[1].plot(results['assignments'][0][:,0],results['assignments'][0][:,1],'r.')\n",
      "ax[1].plot(results['centroids'][0][0],results['centroids'][0][1],'go')\n",
      "ax[1].plot(results['assignments'][1][:,0],results['assignments'][1][:,1],'b.')\n",
      "ax[1].plot(results['centroids'][1][0],results['centroids'][1][1],'go')\n",
      "\n",
      "ax[0].set_xlim([2,7])\n",
      "ax[0].set_ylim([2,7])\n",
      "ax[1].set_xlim([2,7])\n",
      "ax[1].set_ylim([2,7])\n",
      "\n",
      "ax[0].set_title(\"Actual Clusters\")\n",
      "ax[1].set_title(\"Calcualted Clusters\")\n",
      "\n",
      "plt.show()"
     ],
     "language": "python",
     "metadata": {},
     "outputs": [
      {
       "metadata": {},
       "output_type": "display_data",
       "png": "[encoded data removed]",
       "text": [
        "<matplotlib.figure.Figure at 0x5880d30>"
       ]
      }
     ],
     "prompt_number": 221
    },
    {
     "cell_type": "markdown",
     "metadata": {},
     "source": [
      "The K-means algorithm takes account only of the dinstance between the means and the datapoints; it has no representation of the weight or breadth of each cluster. Consequently, the algorithm erroneously splits the clusters each in half. This demonstrates that the use of the $d$ metric leaves something to be desired. It also hints at another criticism of the K-means algorithm: It is a 'hard' rather than 'soft' classifier: points within each cluster are given equal weight. Points on the border aren't regarded as less questionable members than those in the middle."
     ]
    },
    {
     "cell_type": "heading",
     "level": 2,
     "metadata": {},
     "source": [
      "20.2: Soft K-means Clustering"
     ]
    },
    {
     "cell_type": "markdown",
     "metadata": {},
     "source": [
      "All the criticisms above have given rise to the 'soft K-means algorithm'. The algorithm has one parameter, $\\beta$, which we could term the *stiffness*.\n",
      "* **Assignment Step**: Each datapoint $\\mathbf{X}_{n}$ is given a soft 'degree of assignment' to each of the means. We call the degree to which $\\mathbf{X}_{n}$ is assigned to cluster $k$ the *responsibility* $r_{k,n}$ (the responsibility of cluster $k$ for point $n$):\n",
      "$$r_{k,n} = \\frac{\\exp\\left(-\\beta d\\left(\\mathbf{m}_{k},\\mathbf{x}_{n}\\right)\\right)}\n",
      "{\\sum_{\\hat{k}\\in K}{\\exp\\left(-\\beta d\\left(\\mathbf{m}_{\\hat{k}},\\mathbf{x}_{n}\\right)\\right)}}$$\n",
      "The sum of the $K$ responsibilities for the $n$th point is 1.<br/><br/>\n",
      "* **Update Step**: The model parameters, the means, are adjusted to match the sample means of the datapoints they are responsible for:\n",
      "$$\\mathbf{m}_{k} = \\frac{\\sum_{n}{r_{k,n}\\mathbf{x}_{n}}}{R_{k}},$$\n",
      "where $R_{k}$ is the total responsibility of mean $k$,\n",
      "$$R_{k} = \\sum_{n}{r_{k,n}}.$$<br/><br/>\n",
      "Notice the similarity of this soft K-means algorithm to the hard K-means algorithm. The update step is identical; the only difference is that the responsibilities $r_{k,n}$ can take on values between $0$ and $1$ instead of solely those two values. Whereas the assignment in the K-means algorithm involved a 'min' over the distances, the rule for assigning the responsibilities here is a 'soft-min.'"
     ]
    },
    {
     "cell_type": "code",
     "collapsed": false,
     "input": [
      "import numpy as np\n",
      "import matplotlib.pyplot as plt\n",
      "%matplotlib inline\n",
      "\n",
      "def d(x,y):\n",
      "    return sum((x-y)**2)\n",
      "\n",
      "def d_exp(c,x,B):\n",
      "    return np.exp(-B*d(c,x))\n",
      "\n",
      "def initialize(X,K):\n",
      "    M = X.shape[1]\n",
      "    X_min, X_max = np.amin(X,axis=0), np.amax(X,axis=0)\n",
      "    X_range = X_max - X_min\n",
      "    return np.random.rand(K*M).reshape(K,M) * X_range + np.tile(X_min,K).reshape(K,M)\n",
      "\n",
      "def assign(X,C,B):\n",
      "    \"\"\"\n",
      "    Take the data (NxM), current centroids (KxM), and stiffness parameter B,\n",
      "    and return (NxK) matrix, where each entry r_{n,k} is the responsibility of\n",
      "    the kth centroid for the nth datapoint. Each r_{n,k} is of the form\n",
      "    r_{n,k} = exp(-B*d(m[k],x[n])) / sum_{k}{exp(-B*d(m[k],x[n]))}\n",
      "    \"\"\"\n",
      "    N,M = X.shape\n",
      "    K = C.shape[0]\n",
      "    D = np.array([d_exp(c,x,B) for x in X for c in C]).reshape(N,K)\n",
      "    return (D.T/np.sum(D,axis=1)).T\n",
      "\n",
      "def update(X,A,old_C):\n",
      "    new_C = np.dot(A.T,X) / np.sum(A,axis=0)[:,np.newaxis]\n",
      "    new_C_nan_to_zero = np.nan_to_num(new_C)\n",
      "    new_C_nan_indicator_matrix = np.isnan(new_C).astype(np.int)\n",
      "    return new_C_nan_to_zero + (new_C_nan_indicator_matrix * old_C)\n",
      "#     return np.dot(A.T,X) / np.sum(A,axis=0)[:,np.newaxis]\n",
      "\n",
      "def K_means_soft(X,K,B):\n",
      "    C = initialize(X,K)\n",
      "    current_assignments = assign(X,C,B)\n",
      "    previous_assignments = np.empty(shape=(1,1))\n",
      "    n_iter = 0\n",
      "    while not np.array_equal(previous_assignments,current_assignments):\n",
      "        previous_assignments = current_assignments\n",
      "        C = update(X,current_assignments,C)\n",
      "        current_assignments = assign(X,C,B)\n",
      "        n_iter += 1\n",
      "        if n_iter > 1000:\n",
      "            break\n",
      "    return {'assignments': current_assignments,'centroids': C}\n",
      "\n",
      "B=1   \n",
      "actual_K = np.array([[1,8],[8,1],[8,8]])\n",
      "C = np.array([[3,4],[7,1],[5,8]])\n",
      "X = np.tile(actual_K,10).reshape(30,2) + np.random.uniform(low=-2.0,high=2.0,size=60).reshape(30,2)\n",
      "results = K_means_soft(X,3,B)\n",
      "results['centroids']"
     ],
     "language": "python",
     "metadata": {},
     "outputs": [
      {
       "metadata": {},
       "output_type": "pyout",
       "prompt_number": 258,
       "text": [
        "array([[ 7.62927176,  8.15961687],\n",
        "       [ 0.80764123,  7.43891807],\n",
        "       [ 7.40075097,  1.48405752]])"
       ]
      }
     ],
     "prompt_number": 258
    }
   ],
   "metadata": {}
  }
 ]
}